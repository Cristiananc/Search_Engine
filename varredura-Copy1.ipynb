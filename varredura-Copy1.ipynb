{
 "cells": [
  {
   "cell_type": "code",
   "execution_count": null,
   "metadata": {},
   "outputs": [],
   "source": []
  },
  {
   "cell_type": "code",
   "execution_count": null,
   "metadata": {},
   "outputs": [],
   "source": [
    "import os\n",
    "import re\n",
    "import time \n",
    "import unidecode as ud\n",
    "\n",
    "n = os.listdir('Desktop/limpeza2')\n",
    "\n",
    "t0 = time.time()\n",
    "def processa(arquivo,t):\n",
    "    f = open(arquivo,'r',encoding='utf8')\n",
    "    x = f.read()\n",
    "    h = x.split(\"id=\")\n",
    "    x = x.replace('_','')\n",
    "    h = (ud.unidecode(x)).split(\"id=\")\n",
    "    v = open('Desktop/3periodo/texto_{}.txt'.format(t),'a',encoding='utf8')\n",
    "    for i in range(len(h)):\n",
    "        k = \" \".join(re.findall(r'\\w+',h[i]))\n",
    "        h[i] = k\n",
    "    v.write((\" \\n  \\n id=\".join(h).lower()))      \n",
    "    v.close()\n",
    "    f.close()\n",
    "\n",
    "for i in range(len(n) - 1):\n",
    "    if i == 0:\n",
    "        y = 0\n",
    "    else:\n",
    "        x = re.findall(r'\\d+',n[i])\n",
    "        y = int(x[0])\n",
    "    processa('Desktop/limpeza2/'+n[i],y)\n",
    "        \n",
    "tf = time.time()\n",
    "print(tf-t0)"
   ]
  },
  {
   "cell_type": "code",
   "execution_count": null,
   "metadata": {},
   "outputs": [],
   "source": []
  }
 ],
 "metadata": {
  "kernelspec": {
   "display_name": "Python 3",
   "language": "python",
   "name": "python3"
  },
  "language_info": {
   "codemirror_mode": {
    "name": "ipython",
    "version": 3
   },
   "file_extension": ".py",
   "mimetype": "text/x-python",
   "name": "python",
   "nbconvert_exporter": "python",
   "pygments_lexer": "ipython3",
   "version": "3.7.6"
  }
 },
 "nbformat": 4,
 "nbformat_minor": 4
}
