{
 "cells": [
  {
   "cell_type": "code",
   "execution_count": null,
   "metadata": {},
   "outputs": [],
   "source": []
  },
  {
   "cell_type": "code",
   "execution_count": null,
   "metadata": {},
   "outputs": [],
   "source": [
    "import os\n",
    "import re\n",
    "import time \n",
    "import unidecode as ud\n",
    "\n",
    "n = os.listdir('Desktop/limpeza2')\n",
    "\n",
    "t0 = time.time()\n",
    "def processa(arquivo,t):\n",
    "    f = open(arquivo,'r',encoding='utf8')\n",
    "    x = f.read()\n",
    "    h = x.split(\"id=\")\n",
    "    x = x.replace('_','')\n",
    "    h = (ud.unidecode(x)).split(\"id=\")\n",
    "    v = open('Desktop/3periodo/texto_{}.txt'.format(t),'a',encoding='utf8')\n",
    "    for i in range(len(h)):\n",
    "        k = \" \".join(re.findall(r'\\w+',h[i]))\n",
    "        h[i] = k\n",
    "    v.write((\" \\n  \\n id=\".join(h).lower()))      \n",
    "    v.close()\n",
    "    f.close()\n",
    "\n",
    "for i in range(len(n) - 1):\n",
    "    if i == 0:\n",
    "        y = 0\n",
    "    else:\n",
    "        x = re.findall(r'\\d+',n[i])\n",
    "        y = int(x[0])\n",
    "    processa('Desktop/limpeza2/'+n[i],y)\n",
    "        \n",
    "tf = time.time()\n",
    "print(tf-t0)"
   ]
  },
  {
   "cell_type": "code",
   "execution_count": null,
   "metadata": {},
   "outputs": [],
   "source": []
  },
  {
   "cell_type": "code",
   "execution_count": null,
   "metadata": {},
   "outputs": [],
   "source": [
    "import os\n",
    "import re\n",
    "import time \n",
    "import unidecode as ud\n",
    "\n",
    "n = os.listdir('Desktop/MARCAO/araw.en')\n",
    "\n",
    "lista = []\n",
    "def titulos(arquivo):\n",
    "    global lista\n",
    "    f = open(arquivo,'r',encoding = 'utf8')\n",
    "    x = f.read()\n",
    "    h = x.split(\"\\n\")\n",
    "    for i in range(len(h)):\n",
    "        y = h[i].split(\" \")\n",
    "        if len(y) >=4:\n",
    "            if len(y[1]) >=4 and len(y[2]) >= 7:\n",
    "                if y[1][0:4] == \"id=\\\"\" and y[2][0:7] == \"title=\\\"\":\n",
    "                    for r in range(len(y)):\n",
    "                        if len(y[r]) >= 12:\n",
    "                            if y[r][0:12] == 'nonfiltered=':\n",
    "                                k = r\n",
    "                                st = y[2][7:]+\" \"+\" \".join(y[3:k])\n",
    "                                st = st[0:-1]\n",
    "                                st2 = (ud.unidecode(\" \".join(re.findall(r'\\w+',st)))).lower()\n",
    "                                lista.append([st2,st])\n",
    "    f.close()\n",
    "                    \n",
    "def abre():\n",
    "    t0 = time.time()\n",
    "    for i in range(len(n)):\n",
    "        arquivo = 'Desktop/MARCAO/araw.en/'+n[i]\n",
    "        print(i)\n",
    "        titulos(arquivo)\n",
    "        \n",
    "    print(time.time()-t0)\n",
    "    lista.sort()\n",
    "    tf = time.time()-t0\n",
    "    print(tf)\n",
    "    f = open('Desktop/testes/titulos.txt','a', encoding = 'utf8')\n",
    "    for p in lista:\n",
    "        f.write(p[1]+'\\n')\n",
    "    f.close()\n",
    "    print(time.time()-t0)\n",
    "    return lista"
   ]
  },
  {
   "cell_type": "code",
   "execution_count": null,
   "metadata": {},
   "outputs": [],
   "source": []
  }
 ],
 "metadata": {
  "kernelspec": {
   "display_name": "Python 3",
   "language": "python",
   "name": "python3"
  },
  "language_info": {
   "codemirror_mode": {
    "name": "ipython",
    "version": 3
   },
   "file_extension": ".py",
   "mimetype": "text/x-python",
   "name": "python",
   "nbconvert_exporter": "python",
   "pygments_lexer": "ipython3",
   "version": "3.7.6"
  }
 },
 "nbformat": 4,
 "nbformat_minor": 4
}
